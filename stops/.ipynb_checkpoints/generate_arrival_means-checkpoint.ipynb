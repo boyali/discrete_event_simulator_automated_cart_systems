{
 "cells": [
  {
   "cell_type": "code",
   "execution_count": 1,
   "metadata": {},
   "outputs": [],
   "source": [
    "import numpy as np\n",
    "\n",
    "import sys\n",
    "sys.path.append('..')\n"
   ]
  },
  {
   "cell_type": "code",
   "execution_count": 2,
   "metadata": {},
   "outputs": [],
   "source": [
    "_mean_gamma = 1.5 # 2.5\n",
    "_std_gamma = 1  # 1.5\n",
    "\n",
    "_gamma_alpha = (_mean_gamma / _std_gamma) ** 2\n",
    "_gamma_beta = _mean_gamma / _std_gamma ** 2\n"
   ]
  },
  {
   "cell_type": "code",
   "execution_count": 3,
   "metadata": {},
   "outputs": [],
   "source": [
    "SEED = 1  # 3438  ##\n",
    "np.random.seed(SEED)\n",
    "    \n",
    "_ARRIVAL_MEANS = np.random.gamma(_gamma_alpha, 1 / _gamma_beta, size=(8, 15)).astype(int)"
   ]
  },
  {
   "cell_type": "code",
   "execution_count": 4,
   "metadata": {},
   "outputs": [
    {
     "data": {
      "text/plain": [
       "array([[3, 0, 0, 0, 3, 0, 3, 0, 2, 0, 1, 0, 0, 2, 2],\n",
       "       [0, 1, 1, 0, 0, 0, 1, 1, 0, 1, 0, 1, 1, 1, 0],\n",
       "       [1, 1, 1, 2, 1, 1, 2, 3, 4, 0, 1, 2, 1, 0, 1],\n",
       "       [2, 1, 1, 1, 1, 1, 2, 0, 0, 0, 1, 0, 2, 0, 1],\n",
       "       [2, 0, 0, 1, 1, 0, 1, 0, 1, 0, 0, 2, 0, 2, 0],\n",
       "       [1, 2, 0, 2, 1, 2, 2, 1, 1, 1, 2, 2, 4, 1, 1],\n",
       "       [1, 0, 0, 0, 1, 1, 4, 0, 5, 1, 2, 1, 0, 1, 1],\n",
       "       [0, 1, 1, 3, 2, 1, 1, 0, 2, 0, 0, 0, 4, 0, 0]])"
      ]
     },
     "execution_count": 4,
     "metadata": {},
     "output_type": "execute_result"
    }
   ],
   "source": [
    "_ARRIVAL_MEANS"
   ]
  },
  {
   "cell_type": "code",
   "execution_count": 5,
   "metadata": {},
   "outputs": [],
   "source": [
    "fname = '../stops/arrival_means'\n",
    "np.save(fname, _ARRIVAL_MEANS)\n"
   ]
  },
  {
   "cell_type": "code",
   "execution_count": 6,
   "metadata": {},
   "outputs": [
    {
     "data": {
      "text/plain": [
       "array([[3, 0, 0, 0, 3, 0, 3, 0, 2, 0, 1, 0, 0, 2, 2],\n",
       "       [0, 1, 1, 0, 0, 0, 1, 1, 0, 1, 0, 1, 1, 1, 0],\n",
       "       [1, 1, 1, 2, 1, 1, 2, 3, 4, 0, 1, 2, 1, 0, 1],\n",
       "       [2, 1, 1, 1, 1, 1, 2, 0, 0, 0, 1, 0, 2, 0, 1],\n",
       "       [2, 0, 0, 1, 1, 0, 1, 0, 1, 0, 0, 2, 0, 2, 0],\n",
       "       [1, 2, 0, 2, 1, 2, 2, 1, 1, 1, 2, 2, 4, 1, 1],\n",
       "       [1, 0, 0, 0, 1, 1, 4, 0, 5, 1, 2, 1, 0, 1, 1],\n",
       "       [0, 1, 1, 3, 2, 1, 1, 0, 2, 0, 0, 0, 4, 0, 0]])"
      ]
     },
     "execution_count": 6,
     "metadata": {},
     "output_type": "execute_result"
    }
   ],
   "source": [
    "np.load(fname + '.npy')"
   ]
  },
  {
   "cell_type": "code",
   "execution_count": null,
   "metadata": {},
   "outputs": [],
   "source": []
  }
 ],
 "metadata": {
  "kernel_info": {
   "name": "python3"
  },
  "kernelspec": {
   "display_name": "Python 3",
   "language": "python",
   "name": "python3"
  },
  "language_info": {
   "codemirror_mode": {
    "name": "ipython",
    "version": 3
   },
   "file_extension": ".py",
   "mimetype": "text/x-python",
   "name": "python",
   "nbconvert_exporter": "python",
   "pygments_lexer": "ipython3",
   "version": "3.6.4"
  },
  "latex_envs": {
   "LaTeX_envs_menu_present": true,
   "autoclose": false,
   "autocomplete": true,
   "bibliofile": "biblio.bib",
   "cite_by": "apalike",
   "current_citInitial": 1,
   "eqLabelWithNumbers": true,
   "eqNumInitial": 1,
   "hotkeys": {
    "equation": "Ctrl-E",
    "itemize": "Ctrl-I"
   },
   "labels_anchors": false,
   "latex_user_defs": false,
   "report_style_numbering": false,
   "user_envs_cfg": false
  },
  "nteract": {
   "version": "0.7.0"
  },
  "varInspector": {
   "cols": {
    "lenName": 16,
    "lenType": 16,
    "lenVar": 40
   },
   "kernels_config": {
    "python": {
     "delete_cmd_postfix": "",
     "delete_cmd_prefix": "del ",
     "library": "var_list.py",
     "varRefreshCmd": "print(var_dic_list())"
    },
    "r": {
     "delete_cmd_postfix": ") ",
     "delete_cmd_prefix": "rm(",
     "library": "var_list.r",
     "varRefreshCmd": "cat(var_dic_list()) "
    }
   },
   "types_to_exclude": [
    "module",
    "function",
    "builtin_function_or_method",
    "instance",
    "_Feature"
   ],
   "window_display": false
  }
 },
 "nbformat": 4,
 "nbformat_minor": 2
}
