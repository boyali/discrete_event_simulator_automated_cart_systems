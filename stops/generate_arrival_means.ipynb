{
 "cells": [
  {
   "cell_type": "code",
   "execution_count": 1,
   "metadata": {},
   "outputs": [],
   "source": [
    "import numpy as np\n",
    "import pandas as pd \n",
    "import sys\n",
    "sys.path.append('..')\n"
   ]
  },
  {
   "cell_type": "code",
   "execution_count": 2,
   "metadata": {},
   "outputs": [],
   "source": [
    "_mean_gamma =  2.5\n",
    "_std_gamma =  1.5\n",
    "\n",
    "_gamma_alpha = (_mean_gamma / _std_gamma) ** 2\n",
    "_gamma_beta = _mean_gamma / _std_gamma ** 2\n"
   ]
  },
  {
   "cell_type": "code",
   "execution_count": 3,
   "metadata": {},
   "outputs": [],
   "source": [
    "SEED = 1  # 3438  ##\n",
    "np.random.seed(SEED)\n",
    "    \n",
    "_ARRIVAL_MEANS = np.random.gamma(_gamma_alpha, 1 / _gamma_beta, size=(8, 15)).astype(int)"
   ]
  },
  {
   "cell_type": "code",
   "execution_count": 4,
   "metadata": {},
   "outputs": [
    {
     "data": {
      "text/plain": [
       "array([[5, 1, 1, 1, 5, 1, 4, 0, 4, 0, 1, 1, 0, 4, 3],\n",
       "       [1, 1, 3, 1, 1, 0, 2, 1, 1, 2, 1, 2, 3, 2, 1],\n",
       "       [1, 3, 2, 3, 3, 1, 4, 5, 6, 0, 2, 3, 2, 0, 2],\n",
       "       [3, 1, 1, 2, 2, 2, 4, 1, 1, 1, 2, 1, 4, 0, 2],\n",
       "       [3, 1, 0, 2, 2, 0, 2, 0, 2, 1, 0, 4, 0, 3, 0],\n",
       "       [3, 3, 1, 3, 2, 3, 3, 3, 2, 2, 3, 4, 6, 2, 2],\n",
       "       [2, 0, 1, 1, 2, 1, 6, 0, 8, 1, 4, 1, 0, 2, 2],\n",
       "       [1, 2, 2, 6, 4, 3, 2, 1, 3, 0, 0, 0, 6, 1, 0]])"
      ]
     },
     "execution_count": 4,
     "metadata": {},
     "output_type": "execute_result"
    }
   ],
   "source": [
    "_ARRIVAL_MEANS"
   ]
  },
  {
   "cell_type": "code",
   "execution_count": 5,
   "metadata": {
    "inputHidden": false,
    "outputHidden": false
   },
   "outputs": [
    {
     "data": {
      "text/plain": [
       "array([[5, 1, 1, 1, 5, 1, 4, 0, 4, 0, 1, 1, 0, 4, 3],\n",
       "       [1, 1, 3, 1, 1, 0, 2, 1, 1, 2, 1, 2, 3, 2, 1],\n",
       "       [1, 3, 2, 3, 3, 1, 4, 5, 6, 0, 2, 3, 2, 0, 2],\n",
       "       [3, 1, 1, 2, 2, 2, 4, 1, 1, 1, 2, 1, 4, 0, 2],\n",
       "       [3, 1, 0, 2, 2, 0, 2, 0, 2, 1, 0, 4, 0, 3, 0],\n",
       "       [3, 3, 1, 3, 2, 3, 3, 3, 2, 2, 3, 4, 6, 2, 2],\n",
       "       [2, 0, 1, 1, 2, 1, 6, 0, 8, 1, 4, 1, 0, 2, 2],\n",
       "       [1, 2, 2, 6, 4, 3, 2, 1, 3, 0, 0, 0, 6, 1, 0]])"
      ]
     },
     "execution_count": 5,
     "metadata": {},
     "output_type": "execute_result"
    }
   ],
   "source": [
    "\n",
    "# _ARRIVAL_MEANS[[1, 2, 5, 6], :] = 0 # oorignal experiments\n",
    "# _ARRIVAL_MEANS[[0, 3, 6, 7], :] = 0\n",
    "# _ARRIVAL_MEANS[:, [2, 3, 4, 9, 10, 11]] = 0\n",
    " \n",
    "_ARRIVAL_MEANS "
   ]
  },
  {
   "cell_type": "code",
   "execution_count": 6,
   "metadata": {},
   "outputs": [],
   "source": [
    "fname = '../stops/arrival_means'\n",
    "np.save(fname, _ARRIVAL_MEANS)\n"
   ]
  },
  {
   "cell_type": "code",
   "execution_count": 7,
   "metadata": {},
   "outputs": [
    {
     "data": {
      "text/plain": [
       "array([[5, 1, 1, 1, 5, 1, 4, 0, 4, 0, 1, 1, 0, 4, 3],\n",
       "       [1, 1, 3, 1, 1, 0, 2, 1, 1, 2, 1, 2, 3, 2, 1],\n",
       "       [1, 3, 2, 3, 3, 1, 4, 5, 6, 0, 2, 3, 2, 0, 2],\n",
       "       [3, 1, 1, 2, 2, 2, 4, 1, 1, 1, 2, 1, 4, 0, 2],\n",
       "       [3, 1, 0, 2, 2, 0, 2, 0, 2, 1, 0, 4, 0, 3, 0],\n",
       "       [3, 3, 1, 3, 2, 3, 3, 3, 2, 2, 3, 4, 6, 2, 2],\n",
       "       [2, 0, 1, 1, 2, 1, 6, 0, 8, 1, 4, 1, 0, 2, 2],\n",
       "       [1, 2, 2, 6, 4, 3, 2, 1, 3, 0, 0, 0, 6, 1, 0]])"
      ]
     },
     "execution_count": 7,
     "metadata": {},
     "output_type": "execute_result"
    }
   ],
   "source": [
    "np.load(fname + '.npy')"
   ]
  },
  {
   "cell_type": "code",
   "execution_count": 8,
   "metadata": {},
   "outputs": [],
   "source": [
    "df = pd.DataFrame(_ARRIVAL_MEANS)"
   ]
  },
  {
   "cell_type": "code",
   "execution_count": 9,
   "metadata": {
    "inputHidden": false,
    "outputHidden": false
   },
   "outputs": [
    {
     "data": {
      "text/html": [
       "<div>\n",
       "<style scoped>\n",
       "    .dataframe tbody tr th:only-of-type {\n",
       "        vertical-align: middle;\n",
       "    }\n",
       "\n",
       "    .dataframe tbody tr th {\n",
       "        vertical-align: top;\n",
       "    }\n",
       "\n",
       "    .dataframe thead th {\n",
       "        text-align: right;\n",
       "    }\n",
       "</style>\n",
       "<table border=\"1\" class=\"dataframe\">\n",
       "  <thead>\n",
       "    <tr style=\"text-align: right;\">\n",
       "      <th></th>\n",
       "      <th>0</th>\n",
       "      <th>1</th>\n",
       "      <th>2</th>\n",
       "      <th>3</th>\n",
       "      <th>4</th>\n",
       "      <th>5</th>\n",
       "      <th>6</th>\n",
       "      <th>7</th>\n",
       "      <th>8</th>\n",
       "      <th>9</th>\n",
       "      <th>10</th>\n",
       "      <th>11</th>\n",
       "      <th>12</th>\n",
       "      <th>13</th>\n",
       "      <th>14</th>\n",
       "    </tr>\n",
       "  </thead>\n",
       "  <tbody>\n",
       "    <tr>\n",
       "      <th>0</th>\n",
       "      <td>5</td>\n",
       "      <td>1</td>\n",
       "      <td>1</td>\n",
       "      <td>1</td>\n",
       "      <td>5</td>\n",
       "      <td>1</td>\n",
       "      <td>4</td>\n",
       "      <td>0</td>\n",
       "      <td>4</td>\n",
       "      <td>0</td>\n",
       "      <td>1</td>\n",
       "      <td>1</td>\n",
       "      <td>0</td>\n",
       "      <td>4</td>\n",
       "      <td>3</td>\n",
       "    </tr>\n",
       "    <tr>\n",
       "      <th>1</th>\n",
       "      <td>1</td>\n",
       "      <td>1</td>\n",
       "      <td>3</td>\n",
       "      <td>1</td>\n",
       "      <td>1</td>\n",
       "      <td>0</td>\n",
       "      <td>2</td>\n",
       "      <td>1</td>\n",
       "      <td>1</td>\n",
       "      <td>2</td>\n",
       "      <td>1</td>\n",
       "      <td>2</td>\n",
       "      <td>3</td>\n",
       "      <td>2</td>\n",
       "      <td>1</td>\n",
       "    </tr>\n",
       "    <tr>\n",
       "      <th>2</th>\n",
       "      <td>1</td>\n",
       "      <td>3</td>\n",
       "      <td>2</td>\n",
       "      <td>3</td>\n",
       "      <td>3</td>\n",
       "      <td>1</td>\n",
       "      <td>4</td>\n",
       "      <td>5</td>\n",
       "      <td>6</td>\n",
       "      <td>0</td>\n",
       "      <td>2</td>\n",
       "      <td>3</td>\n",
       "      <td>2</td>\n",
       "      <td>0</td>\n",
       "      <td>2</td>\n",
       "    </tr>\n",
       "    <tr>\n",
       "      <th>3</th>\n",
       "      <td>3</td>\n",
       "      <td>1</td>\n",
       "      <td>1</td>\n",
       "      <td>2</td>\n",
       "      <td>2</td>\n",
       "      <td>2</td>\n",
       "      <td>4</td>\n",
       "      <td>1</td>\n",
       "      <td>1</td>\n",
       "      <td>1</td>\n",
       "      <td>2</td>\n",
       "      <td>1</td>\n",
       "      <td>4</td>\n",
       "      <td>0</td>\n",
       "      <td>2</td>\n",
       "    </tr>\n",
       "    <tr>\n",
       "      <th>4</th>\n",
       "      <td>3</td>\n",
       "      <td>1</td>\n",
       "      <td>0</td>\n",
       "      <td>2</td>\n",
       "      <td>2</td>\n",
       "      <td>0</td>\n",
       "      <td>2</td>\n",
       "      <td>0</td>\n",
       "      <td>2</td>\n",
       "      <td>1</td>\n",
       "      <td>0</td>\n",
       "      <td>4</td>\n",
       "      <td>0</td>\n",
       "      <td>3</td>\n",
       "      <td>0</td>\n",
       "    </tr>\n",
       "    <tr>\n",
       "      <th>5</th>\n",
       "      <td>3</td>\n",
       "      <td>3</td>\n",
       "      <td>1</td>\n",
       "      <td>3</td>\n",
       "      <td>2</td>\n",
       "      <td>3</td>\n",
       "      <td>3</td>\n",
       "      <td>3</td>\n",
       "      <td>2</td>\n",
       "      <td>2</td>\n",
       "      <td>3</td>\n",
       "      <td>4</td>\n",
       "      <td>6</td>\n",
       "      <td>2</td>\n",
       "      <td>2</td>\n",
       "    </tr>\n",
       "    <tr>\n",
       "      <th>6</th>\n",
       "      <td>2</td>\n",
       "      <td>0</td>\n",
       "      <td>1</td>\n",
       "      <td>1</td>\n",
       "      <td>2</td>\n",
       "      <td>1</td>\n",
       "      <td>6</td>\n",
       "      <td>0</td>\n",
       "      <td>8</td>\n",
       "      <td>1</td>\n",
       "      <td>4</td>\n",
       "      <td>1</td>\n",
       "      <td>0</td>\n",
       "      <td>2</td>\n",
       "      <td>2</td>\n",
       "    </tr>\n",
       "    <tr>\n",
       "      <th>7</th>\n",
       "      <td>1</td>\n",
       "      <td>2</td>\n",
       "      <td>2</td>\n",
       "      <td>6</td>\n",
       "      <td>4</td>\n",
       "      <td>3</td>\n",
       "      <td>2</td>\n",
       "      <td>1</td>\n",
       "      <td>3</td>\n",
       "      <td>0</td>\n",
       "      <td>0</td>\n",
       "      <td>0</td>\n",
       "      <td>6</td>\n",
       "      <td>1</td>\n",
       "      <td>0</td>\n",
       "    </tr>\n",
       "  </tbody>\n",
       "</table>\n",
       "</div>"
      ],
      "text/plain": [
       "   0   1   2   3   4   5   6   7   8   9   10  11  12  13  14\n",
       "0   5   1   1   1   5   1   4   0   4   0   1   1   0   4   3\n",
       "1   1   1   3   1   1   0   2   1   1   2   1   2   3   2   1\n",
       "2   1   3   2   3   3   1   4   5   6   0   2   3   2   0   2\n",
       "3   3   1   1   2   2   2   4   1   1   1   2   1   4   0   2\n",
       "4   3   1   0   2   2   0   2   0   2   1   0   4   0   3   0\n",
       "5   3   3   1   3   2   3   3   3   2   2   3   4   6   2   2\n",
       "6   2   0   1   1   2   1   6   0   8   1   4   1   0   2   2\n",
       "7   1   2   2   6   4   3   2   1   3   0   0   0   6   1   0"
      ]
     },
     "execution_count": 9,
     "metadata": {},
     "output_type": "execute_result"
    }
   ],
   "source": [
    "df"
   ]
  },
  {
   "cell_type": "code",
   "execution_count": 10,
   "metadata": {},
   "outputs": [
    {
     "name": "stdout",
     "output_type": "stream",
     "text": [
      "\\begin{tabular}{lrrrrrrrrrrrrrrr}\n",
      "\\toprule\n",
      "{} &  0  &  1  &  2  &  3  &  4  &  5  &  6  &  7  &  8  &  9  &  10 &  11 &  12 &  13 &  14 \\\\\n",
      "\\midrule\n",
      "0 &   5 &   1 &   1 &   1 &   5 &   1 &   4 &   0 &   4 &   0 &   1 &   1 &   0 &   4 &   3 \\\\\n",
      "1 &   1 &   1 &   3 &   1 &   1 &   0 &   2 &   1 &   1 &   2 &   1 &   2 &   3 &   2 &   1 \\\\\n",
      "2 &   1 &   3 &   2 &   3 &   3 &   1 &   4 &   5 &   6 &   0 &   2 &   3 &   2 &   0 &   2 \\\\\n",
      "3 &   3 &   1 &   1 &   2 &   2 &   2 &   4 &   1 &   1 &   1 &   2 &   1 &   4 &   0 &   2 \\\\\n",
      "4 &   3 &   1 &   0 &   2 &   2 &   0 &   2 &   0 &   2 &   1 &   0 &   4 &   0 &   3 &   0 \\\\\n",
      "5 &   3 &   3 &   1 &   3 &   2 &   3 &   3 &   3 &   2 &   2 &   3 &   4 &   6 &   2 &   2 \\\\\n",
      "6 &   2 &   0 &   1 &   1 &   2 &   1 &   6 &   0 &   8 &   1 &   4 &   1 &   0 &   2 &   2 \\\\\n",
      "7 &   1 &   2 &   2 &   6 &   4 &   3 &   2 &   1 &   3 &   0 &   0 &   0 &   6 &   1 &   0 \\\\\n",
      "\\bottomrule\n",
      "\\end{tabular}\n",
      "\n"
     ]
    }
   ],
   "source": [
    "print(df.to_latex())"
   ]
  },
  {
   "cell_type": "code",
   "execution_count": null,
   "metadata": {},
   "outputs": [],
   "source": []
  }
 ],
 "metadata": {
  "kernel_info": {
   "name": "python3"
  },
  "kernelspec": {
   "display_name": "Python 3",
   "language": "python",
   "name": "python3"
  },
  "language_info": {
   "codemirror_mode": {
    "name": "ipython",
    "version": 3
   },
   "file_extension": ".py",
   "mimetype": "text/x-python",
   "name": "python",
   "nbconvert_exporter": "python",
   "pygments_lexer": "ipython3",
   "version": "3.6.4"
  },
  "latex_envs": {
   "LaTeX_envs_menu_present": true,
   "autoclose": false,
   "autocomplete": true,
   "bibliofile": "biblio.bib",
   "cite_by": "apalike",
   "current_citInitial": 1.0,
   "eqLabelWithNumbers": true,
   "eqNumInitial": 1.0,
   "hotkeys": {
    "equation": "Ctrl-E",
    "itemize": "Ctrl-I"
   },
   "labels_anchors": false,
   "latex_user_defs": false,
   "report_style_numbering": false,
   "user_envs_cfg": false
  },
  "nteract": {
   "version": "0.6.2"
  },
  "varInspector": {
   "cols": {
    "lenName": 16.0,
    "lenType": 16.0,
    "lenVar": 40.0
   },
   "kernels_config": {
    "python": {
     "delete_cmd_postfix": "",
     "delete_cmd_prefix": "del ",
     "library": "var_list.py",
     "varRefreshCmd": "print(var_dic_list())"
    },
    "r": {
     "delete_cmd_postfix": ") ",
     "delete_cmd_prefix": "rm(",
     "library": "var_list.r",
     "varRefreshCmd": "cat(var_dic_list()) "
    }
   },
   "types_to_exclude": [
    "module",
    "function",
    "builtin_function_or_method",
    "instance",
    "_Feature"
   ],
   "window_display": false
  }
 },
 "nbformat": 4,
 "nbformat_minor": 2
}
